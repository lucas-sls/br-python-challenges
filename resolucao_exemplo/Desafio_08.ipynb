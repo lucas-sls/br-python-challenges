{
  "cells": [
    {
      "cell_type": "markdown",
      "metadata": {
        "id": "view-in-github",
        "colab_type": "text"
      },
      "source": [
        "<a href=\"https://colab.research.google.com/github/WittmannF/br-data-science/blob/master/python/challenges/Desafio_8.ipynb\" target=\"_parent\"><img src=\"https://colab.research.google.com/assets/colab-badge.svg\" alt=\"Open In Colab\"/></a>"
      ]
    },
    {
      "cell_type": "markdown",
      "metadata": {
        "id": "o3tkeMDNf6Jo",
        "colab_type": "text"
      },
      "source": [
        "### Desafio 8\n",
        "\n",
        "Escreva um script Python para encontrar as 10 palavras mais longas em um arquivo.\n",
        "\n",
        "O arquivo TXT está localizado na mesma pasta do projeto (texto.txt)."
      ]
    },
    {
      "cell_type": "code",
      "metadata": {
        "id": "EknxjSG0f6Jo",
        "colab_type": "code",
        "colab": {},
        "tags": []
      },
      "source": [
        "from operator import itemgetter\n",
        "with open('texto.txt', 'r') as f:\n",
        "    dic = {}    \n",
        "    conteudo = f.read().replace('.', ' ').replace('-', ' ').replace(',', ' ').replace(')', ' ')\n",
        "    for palavra in conteudo.split():\n",
        "        dic[f'{palavra}'] = len(palavra)\n",
        "        ordem = sorted(dic.items(), key=itemgetter(1), reverse=True)\n",
        "    for k, v in enumerate(ordem):\n",
        "        if k < 10:\n",
        "            print(v[0], v[1])"
      ],
      "execution_count": 1,
      "outputs": [
        {
          "output_type": "stream",
          "name": "stdout",
          "text": "comprehensive 13\nintermediate 12\ninterpreted 11\nprogramming 11\nreadability 11\nprogrammers 11\nphilosophy 10\nemphasizes 10\nimperative 10\nfunctional 10\n"
        }
      ]
    }
  ],
  "metadata": {
    "anaconda-cloud": {},
    "kernelspec": {
      "display_name": "Python 3.7.7 64-bit ('ML2': conda)",
      "language": "python",
      "name": "python37764bitml2condac5c8214fecce4af0aacfcafaac4bdc1e"
    },
    "language_info": {
      "codemirror_mode": {
        "name": "ipython",
        "version": 3
      },
      "file_extension": ".py",
      "mimetype": "text/x-python",
      "name": "python",
      "nbconvert_exporter": "python",
      "pygments_lexer": "ipython3",
      "version": "3.7.7-final"
    },
    "colab": {
      "name": "Desafio 8.ipynb",
      "provenance": [],
      "include_colab_link": true
    }
  },
  "nbformat": 4,
  "nbformat_minor": 0
}