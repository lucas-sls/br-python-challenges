{
 "cells": [
  {
   "cell_type": "markdown",
   "metadata": {
    "colab_type": "text",
    "id": "view-in-github"
   },
   "source": [
    "![](https://i.imgur.com/YX6UATs.png)"
   ]
  },
  {
   "cell_type": "markdown",
   "metadata": {
    "colab_type": "text",
    "id": "o3tkeMDNf6Jo"
   },
   "source": [
    "### Desafio 8\n",
    "\n",
    "Escreva um script Python para encontrar as 10 palavras mais longas em um arquivo de texto.\n",
    "O arquivo .txt está localizado na mesma pasta do projeto (**texto.txt**)."
   ]
  },
  {
   "cell_type": "code",
   "execution_count": 118,
   "metadata": {},
   "outputs": [
    {
     "name": "stdout",
     "output_type": "stream",
     "text": [
      "What is Python language?                                                \n",
      "Python is a widely used high-level, general-purpose, interpreted, dynamic programming language.Its design philosophy emphasizes code readability, and its syntax allows programmers to express concepts in fewer lines of code than possible in \n",
      "languages such as C++ or Java. \n",
      "Python supports multiple programming paradigms, including object-oriented, imperative and functional programming or procedural styles.It features a dynamic type system and automatic memory management and has a large and comprehensive standard library.The best way we learn anything is by practice and exercise questions. We  have started this section for those (beginner to intermediate) who are familiar with Python.\n"
     ]
    }
   ],
   "source": [
    "import string\n",
    "\n",
    "texto = open('texto.txt')\n",
    "texto = texto.read()\n",
    "print(texto)\n",
    "\n",
    "def palavras_mais_longas(texto):\n",
    "    for i in texto:\n",
    "        if i in string.punctuation or i in string.whitespace:\n",
    "            texto = texto.replace(i,' ')\n",
    "\n",
    "    new = texto.split()\n",
    "\n",
    "    dictionary = {}\n",
    "\n",
    "    for i in new:\n",
    "        dictionary[i] = len(i)\n",
    "\n",
    "    cont = 0\n",
    "    for i in sorted(dictionary, key=dictionary.get, reverse=True):\n",
    "        cont += 1\n",
    "        if cont <= 10:\n",
    "            rol = print (i, dictionary[i])\n",
    "    return rol"
   ]
  },
  {
   "cell_type": "code",
   "execution_count": 117,
   "metadata": {},
   "outputs": [
    {
     "name": "stdout",
     "output_type": "stream",
     "text": [
      "comprehensive 13\n",
      "intermediate 12\n",
      "interpreted 11\n",
      "programming 11\n",
      "readability 11\n",
      "programmers 11\n",
      "philosophy 10\n",
      "emphasizes 10\n",
      "imperative 10\n",
      "functional 10\n"
     ]
    }
   ],
   "source": [
    "palavras_mais_longas(texto)"
   ]
  }
 ],
 "metadata": {
  "anaconda-cloud": {},
  "colab": {
   "include_colab_link": true,
   "name": "Desafio 8.ipynb",
   "provenance": []
  },
  "kernelspec": {
   "display_name": "Python 3 (ipykernel)",
   "language": "python",
   "name": "python3"
  },
  "language_info": {
   "codemirror_mode": {
    "name": "ipython",
    "version": 3
   },
   "file_extension": ".py",
   "mimetype": "text/x-python",
   "name": "python",
   "nbconvert_exporter": "python",
   "pygments_lexer": "ipython3",
   "version": "3.9.7"
  }
 },
 "nbformat": 4,
 "nbformat_minor": 1
}
