{
 "cells": [
  {
   "cell_type": "markdown",
   "metadata": {
    "colab_type": "text",
    "id": "view-in-github"
   },
   "source": [
    "![](https://i.imgur.com/YX6UATs.png)"
   ]
  },
  {
   "cell_type": "markdown",
   "metadata": {
    "colab_type": "text",
    "id": "SbLLE9q1eldC"
   },
   "source": [
    "### Desafio 1\n",
    "\n",
    "Escreva um programa em Python para contabilizar a quantidade de ocorrências de cada palavra."
   ]
  },
  {
   "cell_type": "code",
   "execution_count": 18,
   "metadata": {
    "colab": {},
    "colab_type": "code",
    "id": "WhtbdwFseldD"
   },
   "outputs": [],
   "source": [
    "palavras = [\n",
    "   'red', 'green', 'black', 'pink', 'black', 'white', 'black', 'eyes',\n",
    "   'white', 'black', 'orange', 'pink', 'pink', 'red', 'red', 'white', 'orange',\n",
    "   'white', \"black\", 'pink', 'green', 'green', 'pink', 'green', 'pink',\n",
    "   'white', 'orange', \"orange\", 'red'\n",
    "]"
   ]
  },
  {
   "cell_type": "code",
   "execution_count": 19,
   "metadata": {
    "colab": {},
    "colab_type": "code",
    "id": "M58o1U9KfAxa"
   },
   "outputs": [],
   "source": [
    "palavras.sort()"
   ]
  },
  {
   "cell_type": "code",
   "execution_count": 21,
   "metadata": {},
   "outputs": [
    {
     "name": "stdout",
     "output_type": "stream",
     "text": [
      "['black', 'black', 'black', 'black', 'black', 'eyes', 'green', 'green', 'green', 'green', 'orange', 'orange', 'orange', 'orange', 'pink', 'pink', 'pink', 'pink', 'pink', 'pink', 'red', 'red', 'red', 'red', 'white', 'white', 'white', 'white', 'white']\n"
     ]
    }
   ],
   "source": [
    "print(palavras)"
   ]
  },
  {
   "cell_type": "code",
   "execution_count": 22,
   "metadata": {},
   "outputs": [
    {
     "data": {
      "text/plain": [
       "29"
      ]
     },
     "execution_count": 22,
     "metadata": {},
     "output_type": "execute_result"
    }
   ],
   "source": [
    "len(palavras)"
   ]
  },
  {
   "cell_type": "code",
   "execution_count": 20,
   "metadata": {},
   "outputs": [
    {
     "name": "stdout",
     "output_type": "stream",
     "text": [
      "black  se repete 5  vezes\n",
      "eyes  se repete 1  vezes\n",
      "green  se repete 4  vezes\n",
      "orange  se repete 4  vezes\n",
      "pink  se repete 6  vezes\n",
      "red  se repete 4  vezes\n",
      "white  se repete 5  vezes\n"
     ]
    }
   ],
   "source": [
    "rep = 0\n",
    "for i in range(0, len(palavras)-1):\n",
    "    if palavras[i] == palavras[i+1]:\n",
    "        rep += 1\n",
    "        if (i == len(palavras)-2):\n",
    "            print(palavras[i], \" se repete\", rep+1, \" vezes\")\n",
    "    else:\n",
    "        print(palavras[i], \" se repete\", rep+1, \" vezes\")\n",
    "        rep = 0"
   ]
  },
  {
   "cell_type": "code",
   "execution_count": 3,
   "metadata": {},
   "outputs": [],
   "source": [
    "cores = ['azul', 'vermelho', 'rosa', 'vermelho', 'vermelho', 'lilás', 'roxo', 'roxo', 'roxo', 'azul', 'rosa', 'lilás', 'lilás', 'azul', 'rosa']"
   ]
  },
  {
   "cell_type": "code",
   "execution_count": 5,
   "metadata": {},
   "outputs": [],
   "source": [
    "cores.sort()"
   ]
  },
  {
   "cell_type": "code",
   "execution_count": 7,
   "metadata": {
    "scrolled": false
   },
   "outputs": [
    {
     "data": {
      "text/plain": [
       "['azul',\n",
       " 'azul',\n",
       " 'azul',\n",
       " 'lilás',\n",
       " 'lilás',\n",
       " 'lilás',\n",
       " 'rosa',\n",
       " 'rosa',\n",
       " 'rosa',\n",
       " 'roxo',\n",
       " 'roxo',\n",
       " 'roxo',\n",
       " 'vermelho',\n",
       " 'vermelho',\n",
       " 'vermelho']"
      ]
     },
     "execution_count": 7,
     "metadata": {},
     "output_type": "execute_result"
    }
   ],
   "source": [
    "cores"
   ]
  },
  {
   "cell_type": "code",
   "execution_count": 9,
   "metadata": {},
   "outputs": [
    {
     "data": {
      "text/plain": [
       "15"
      ]
     },
     "execution_count": 9,
     "metadata": {},
     "output_type": "execute_result"
    }
   ],
   "source": [
    "len(cores)"
   ]
  },
  {
   "cell_type": "code",
   "execution_count": 11,
   "metadata": {},
   "outputs": [
    {
     "name": "stdout",
     "output_type": "stream",
     "text": [
      "azul  se repete 3  vezes\n",
      "lilás  se repete 3  vezes\n",
      "rosa  se repete 3  vezes\n",
      "roxo  se repete 3  vezes\n",
      "vermelho  se repete 3  vezes\n"
     ]
    }
   ],
   "source": [
    "rep = 0\n",
    "for i in range(0, len(cores)-1):\n",
    "    if cores[i] == cores[i+1]:\n",
    "        rep += 1\n",
    "        if (i == len(cores)-2):\n",
    "            print(cores[i], \" se repete\", rep+1, \" vezes\")\n",
    "    else:\n",
    "        print(cores[i], \" se repete\", rep+1, \" vezes\")\n",
    "        rep = 0"
   ]
  },
  {
   "cell_type": "code",
   "execution_count": null,
   "metadata": {},
   "outputs": [],
   "source": []
  }
 ],
 "metadata": {
  "anaconda-cloud": {},
  "colab": {
   "include_colab_link": true,
   "name": "Desafio 1.ipynb",
   "provenance": []
  },
  "kernelspec": {
   "display_name": "Python 3 (ipykernel)",
   "language": "python",
   "name": "python3"
  },
  "language_info": {
   "codemirror_mode": {
    "name": "ipython",
    "version": 3
   },
   "file_extension": ".py",
   "mimetype": "text/x-python",
   "name": "python",
   "nbconvert_exporter": "python",
   "pygments_lexer": "ipython3",
   "version": "3.9.7"
  }
 },
 "nbformat": 4,
 "nbformat_minor": 1
}
