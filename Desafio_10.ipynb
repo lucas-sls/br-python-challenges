{
 "cells": [
  {
   "cell_type": "markdown",
   "metadata": {
    "colab_type": "text",
    "id": "view-in-github"
   },
   "source": [
    "![](https://i.imgur.com/YX6UATs.png)"
   ]
  },
  {
   "cell_type": "markdown",
   "metadata": {
    "colab_type": "text",
    "id": "a4-FLDRof6Jv"
   },
   "source": [
    "### Desafio 10\n",
    "\n",
    "Dada uma lista, divida-a em 3 partes iguais e reverta a ordem de cada lista.\n",
    "\n",
    "**Exemplo:** \n",
    "\n",
    "Entrada: \\\n",
    "sampleList = [11, 45, 8, 23, 14, 12, 78, 45, 89]\n",
    "\n",
    "Saída: \\\n",
    "Parte 1 [8, 45, 11] \\\n",
    "Parte 2 [12, 14, 23] \\\n",
    "Parte 3 [89, 45, 78] "
   ]
  },
  {
   "cell_type": "code",
   "execution_count": 75,
   "metadata": {},
   "outputs": [],
   "source": [
    "sampleList = [11, 45, 8, 23, 14, 12, 78, 45, 89]"
   ]
  },
  {
   "cell_type": "code",
   "execution_count": 76,
   "metadata": {},
   "outputs": [],
   "source": [
    "def divisao_lista (sampleList):\n",
    "    n = int(len(sampleList) / 3)\n",
    "    for i in range(0,len(sampleList),n):\n",
    "        partes = sampleList[i: i + n]\n",
    "        partes = partes[::-1]\n",
    "        result = print(partes)\n",
    "    return result"
   ]
  },
  {
   "cell_type": "code",
   "execution_count": 77,
   "metadata": {},
   "outputs": [
    {
     "name": "stdout",
     "output_type": "stream",
     "text": [
      "[8, 45, 11]\n",
      "[12, 14, 23]\n",
      "[89, 45, 78]\n"
     ]
    }
   ],
   "source": [
    "divisao_lista(sampleList)"
   ]
  }
 ],
 "metadata": {
  "anaconda-cloud": {},
  "colab": {
   "include_colab_link": true,
   "name": "Desafio 10.ipynb",
   "provenance": []
  },
  "kernelspec": {
   "display_name": "Python 3 (ipykernel)",
   "language": "python",
   "name": "python3"
  },
  "language_info": {
   "codemirror_mode": {
    "name": "ipython",
    "version": 3
   },
   "file_extension": ".py",
   "mimetype": "text/x-python",
   "name": "python",
   "nbconvert_exporter": "python",
   "pygments_lexer": "ipython3",
   "version": "3.9.7"
  }
 },
 "nbformat": 4,
 "nbformat_minor": 1
}
