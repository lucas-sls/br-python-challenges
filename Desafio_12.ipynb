{
 "cells": [
  {
   "cell_type": "markdown",
   "metadata": {
    "colab_type": "text",
    "id": "view-in-github"
   },
   "source": [
    "![](https://i.imgur.com/YX6UATs.png)"
   ]
  },
  {
   "cell_type": "markdown",
   "metadata": {
    "colab_type": "text",
    "id": "AYHY2YXQf6J2"
   },
   "source": [
    "### Desafio 12\n",
    "\n",
    "Escreva uma função em Python para verificar a validade de uma senha.\n",
    "\n",
    "A senha deve ter:\n",
    "\n",
    "* Pelo menos 1 letra entre [a-z] e 1 letra entre [A-Z].\n",
    "* Pelo menos 1 número entre [0-9].\n",
    "* Pelo menos 1 caractere de [$ # @].\n",
    "* Comprimento mínimo de 6 caracteres.\n",
    "* Comprimento máximo de 16 caracteres.\n",
    "\n",
    "Entradas: \"12345678\", \"J3sus0\", \"#Te5t300\", \"J*90j12374\", \"Michheeul\", \"Monk3y6\"\n",
    "\n",
    "A saída deve ser a senha e um texto indicando se a senha é válida ou inválida:\n",
    "\n",
    "```\n",
    "\"1234\" - Senha inválida\n",
    "\"Qw#1234\" - Senha válida\n",
    "```"
   ]
  },
  {
   "cell_type": "code",
   "execution_count": 122,
   "metadata": {},
   "outputs": [
    {
     "name": "stdout",
     "output_type": "stream",
     "text": [
      "Digite a sua senha: qqQQ##123\n"
     ]
    }
   ],
   "source": [
    "senha = input('Digite a sua senha: ')\n",
    "\n",
    "def verificador_senha (senha):\n",
    "    verificando = []\n",
    "    if len(senha) >= 6 and len(senha) <= 16:\n",
    "        val1 = 1\n",
    "        verificando.append(val1)\n",
    "\n",
    "    for p in senha:\n",
    "        if p.isdigit():\n",
    "            val2 = 2\n",
    "            verificando.append(val2)\n",
    "        elif p.isupper():\n",
    "            val3 = 3\n",
    "            verificando.append(val3)\n",
    "        elif p.islower():\n",
    "            val4 = 4\n",
    "            verificando.append(val4)\n",
    "        elif p in ['$','#','@']:\n",
    "            val5 = 5\n",
    "            verificando.append(val5)\n",
    "            \n",
    "    verificando = set(verificando) \n",
    "    validacoes = {1,2,3,4,5}\n",
    "    if verificando == validacoes:\n",
    "        return 'SENHA VÁLIDA'\n",
    "    else:\n",
    "        return 'SENHA INVÁLIDA'\n",
    "\n",
    "        \n"
   ]
  },
  {
   "cell_type": "code",
   "execution_count": 123,
   "metadata": {},
   "outputs": [
    {
     "data": {
      "text/plain": [
       "'SENHA VÁLIDA'"
      ]
     },
     "execution_count": 123,
     "metadata": {},
     "output_type": "execute_result"
    }
   ],
   "source": [
    "verificador_senha(senha)"
   ]
  }
 ],
 "metadata": {
  "anaconda-cloud": {},
  "colab": {
   "include_colab_link": true,
   "name": "Desafio 12.ipynb",
   "provenance": []
  },
  "kernelspec": {
   "display_name": "Python 3 (ipykernel)",
   "language": "python",
   "name": "python3"
  },
  "language_info": {
   "codemirror_mode": {
    "name": "ipython",
    "version": 3
   },
   "file_extension": ".py",
   "mimetype": "text/x-python",
   "name": "python",
   "nbconvert_exporter": "python",
   "pygments_lexer": "ipython3",
   "version": "3.9.7"
  }
 },
 "nbformat": 4,
 "nbformat_minor": 1
}
